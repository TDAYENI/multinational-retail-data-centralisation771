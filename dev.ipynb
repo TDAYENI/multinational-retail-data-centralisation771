{
 "cells": [
  {
   "cell_type": "code",
   "execution_count": 45,
   "metadata": {},
   "outputs": [],
   "source": [
    "import yaml\n",
    "from sqlalchemy import create_engine\n",
    "import psycopg2\n"
   ]
  },
  {
   "cell_type": "code",
   "execution_count": 46,
   "metadata": {},
   "outputs": [],
   "source": [
    "\n",
    "with open('cred/db_creds.yaml') as file:\n",
    "    db_cred = yaml.safe_load(file)"
   ]
  },
  {
   "cell_type": "code",
   "execution_count": 47,
   "metadata": {},
   "outputs": [
    {
     "data": {
      "text/plain": [
       "{'RDS_HOST': 'data-handling-project-readonly.cq2e8zno855e.eu-west-1.rds.amazonaws.com',\n",
       " 'RDS_PASSWORD': 'AiCore2022',\n",
       " 'RDS_USER': 'aicore_admin',\n",
       " 'RDS_DATABASE': 'postgres',\n",
       " 'RDS_PORT': 5432}"
      ]
     },
     "execution_count": 47,
     "metadata": {},
     "output_type": "execute_result"
    }
   ],
   "source": [
    "db_cred['RDS_HOST']\n",
    "db_cred"
   ]
  },
  {
   "cell_type": "code",
   "execution_count": 48,
   "metadata": {},
   "outputs": [],
   "source": [
    "\n",
    "\n",
    "DATABASE_TYPE ='postgresql'\n",
    "DBAPI = 'psycopg2'\n",
    "HOST =  db_cred['RDS_HOST']\n",
    "USER = db_cred['RDS_USER']\n",
    "PASSWORD = db_cred['RDS_PASSWORD']\n",
    "DATABASE =db_cred['RDS_DATABASE']\n",
    "PORT = db_cred['RDS_PORT']\n",
    "engine = create_engine(f\"{DATABASE_TYPE}+{DBAPI}://{USER}:{PASSWORD}@{HOST}:{PORT}/{DATABASE}\")"
   ]
  },
  {
   "cell_type": "code",
   "execution_count": 49,
   "metadata": {},
   "outputs": [
    {
     "name": "stdout",
     "output_type": "stream",
     "text": [
      "postgresql \n",
      " psycopg2 \n",
      " data-handling-project-readonly.cq2e8zno855e.eu-west-1.rds.amazonaws.com \n",
      " aicore_admin \n",
      " AiCore2022 \n",
      " postgres \n",
      " 5432\n"
     ]
    }
   ],
   "source": [
    "print( DATABASE_TYPE,'\\n' ,DBAPI,'\\n' , HOST,'\\n', USER,'\\n', PASSWORD,'\\n' , DATABASE,'\\n' , PORT)"
   ]
  },
  {
   "cell_type": "code",
   "execution_count": 51,
   "metadata": {},
   "outputs": [
    {
     "data": {
      "text/plain": [
       "['legacy_store_details', 'dim_card_details', 'legacy_users', 'orders_table']"
      ]
     },
     "execution_count": 51,
     "metadata": {},
     "output_type": "execute_result"
    }
   ],
   "source": [
    "from sqlalchemy import inspect\n",
    "inspector = inspect(engine)\n",
    "inspector.get_table_names()"
   ]
  }
 ],
 "metadata": {
  "kernelspec": {
   "display_name": "mrdc_env",
   "language": "python",
   "name": "python3"
  },
  "language_info": {
   "codemirror_mode": {
    "name": "ipython",
    "version": 3
   },
   "file_extension": ".py",
   "mimetype": "text/x-python",
   "name": "python",
   "nbconvert_exporter": "python",
   "pygments_lexer": "ipython3",
   "version": "3.12.4"
  }
 },
 "nbformat": 4,
 "nbformat_minor": 2
}
