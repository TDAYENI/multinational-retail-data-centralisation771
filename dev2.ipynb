{
 "cells": [
  {
   "cell_type": "code",
   "execution_count": 16,
   "metadata": {},
   "outputs": [],
   "source": [
    "import boto3\n",
    "import pandas as pd"
   ]
  },
  {
   "cell_type": "code",
   "execution_count": 2,
   "metadata": {},
   "outputs": [],
   "source": [
    "\n",
    "\n",
    "s3 = boto3.client('s3')\n",
    "s3.download_file('data-handling-public', 'products.csv',\n",
    "                 'cred/products.csv')"
   ]
  },
  {
   "cell_type": "code",
   "execution_count": 17,
   "metadata": {},
   "outputs": [],
   "source": [
    "aws_bucket ='data-handling-public'\n",
    "s3_key= 'products.csv'\n",
    "local_path= 'cred/products.csv'"
   ]
  },
  {
   "cell_type": "code",
   "execution_count": 44,
   "metadata": {},
   "outputs": [
    {
     "name": "stdout",
     "output_type": "stream",
     "text": [
      "Successful S3 get_object response. Status - 200\n"
     ]
    }
   ],
   "source": [
    "\n",
    "response = s3.get_object(Bucket=aws_bucket, Key=s3_key)\n",
    "\n",
    "status = response.get(\"ResponseMetadata\", {}).get(\"HTTPStatusCode\")\n",
    "\n",
    "if status == 200:\n",
    "    print(f\"Successful S3 get_object response. Status - {status}\")\n",
    "    products_df = pd.read_csv(response.get(\"Body\"))\n",
    "    \n",
    "else:\n",
    "    print(f\"Unsuccessful S3 get_object response. Status - {status}\")"
   ]
  },
  {
   "cell_type": "code",
   "execution_count": null,
   "metadata": {},
   "outputs": [],
   "source": [
    "products_df"
   ]
  },
  {
   "cell_type": "code",
   "execution_count": 46,
   "metadata": {},
   "outputs": [
    {
     "name": "stdout",
     "output_type": "stream",
     "text": [
      "<class 'pandas.core.frame.DataFrame'>\n",
      "RangeIndex: 1853 entries, 0 to 1852\n",
      "Data columns (total 10 columns):\n",
      " #   Column         Non-Null Count  Dtype \n",
      "---  ------         --------------  ----- \n",
      " 0   Unnamed: 0     1853 non-null   int64 \n",
      " 1   product_name   1849 non-null   object\n",
      " 2   product_price  1849 non-null   object\n",
      " 3   weight         1849 non-null   object\n",
      " 4   category       1849 non-null   object\n",
      " 5   EAN            1849 non-null   object\n",
      " 6   date_added     1849 non-null   object\n",
      " 7   uuid           1849 non-null   object\n",
      " 8   removed        1849 non-null   object\n",
      " 9   product_code   1849 non-null   object\n",
      "dtypes: int64(1), object(9)\n",
      "memory usage: 144.9+ KB\n"
     ]
    }
   ],
   "source": [
    "products_df.info()"
   ]
  },
  {
   "cell_type": "code",
   "execution_count": 24,
   "metadata": {},
   "outputs": [],
   "source": []
  },
  {
   "cell_type": "code",
   "execution_count": 29,
   "metadata": {},
   "outputs": [],
   "source": [
    "import re\n",
    "\n",
    "\n",
    "\n",
    "\n",
    "def convert_to_kg(weight):\n",
    "    # Handle multiple units (e.g., \"8 x 85g\")\n",
    "    multiple_match = re.match(r'(\\d+)\\s*x\\s*(\\d+\\.?\\d*)(\\w+)', weight)\n",
    "    if multiple_match:\n",
    "        count = int(multiple_match.group(1))\n",
    "        value = float(multiple_match.group(2))\n",
    "        unit = multiple_match.group(3)\n",
    "        weight_value = count * value\n",
    "    else:\n",
    "        # Extract value and unit\n",
    "        match = re.match(r'(\\d+\\.?\\d*)(\\w+)', weight)\n",
    "        if not match:\n",
    "            return None\n",
    "        weight_value = float(match.group(1))\n",
    "        unit = match.group(2)\n",
    "\n",
    "    # Conversion factors\n",
    "    if unit == 'kg':\n",
    "        return weight_value\n",
    "    elif unit == 'g':\n",
    "        return weight_value * 0.001\n",
    "    elif unit == 'ml':\n",
    "        return weight_value * 0.001  # Assuming 1:1 ratio for ml to g\n",
    "    elif unit == 'oz':\n",
    "        return weight_value * 0.0283495\n",
    "    else:\n",
    "        return None  # Unknown unit\n",
    "\n"
   ]
  },
  {
   "cell_type": "code",
   "execution_count": 47,
   "metadata": {},
   "outputs": [],
   "source": [
    "products_df['date_added'] = pd.to_datetime(\n",
    "    products_df['date_added'], format='%Y-%m-%d', errors='coerce')"
   ]
  },
  {
   "cell_type": "code",
   "execution_count": 48,
   "metadata": {},
   "outputs": [],
   "source": [
    "products_df=products_df.dropna()"
   ]
  },
  {
   "cell_type": "code",
   "execution_count": 41,
   "metadata": {},
   "outputs": [
    {
     "name": "stdout",
     "output_type": "stream",
     "text": [
      "<class 'pandas.core.frame.DataFrame'>\n",
      "Index: 1849 entries, 0 to 1852\n",
      "Data columns (total 10 columns):\n",
      " #   Column         Non-Null Count  Dtype \n",
      "---  ------         --------------  ----- \n",
      " 0   Unnamed: 0     1849 non-null   Int64 \n",
      " 1   product_name   1849 non-null   string\n",
      " 2   product_price  1849 non-null   string\n",
      " 3   weight         1849 non-null   string\n",
      " 4   category       1849 non-null   string\n",
      " 5   EAN            1849 non-null   string\n",
      " 6   date_added     1849 non-null   string\n",
      " 7   uuid           1849 non-null   string\n",
      " 8   removed        1849 non-null   string\n",
      " 9   product_code   1849 non-null   string\n",
      "dtypes: Int64(1), string(9)\n",
      "memory usage: 160.7 KB\n"
     ]
    }
   ],
   "source": [
    "products_df.info()"
   ]
  },
  {
   "cell_type": "code",
   "execution_count": 34,
   "metadata": {},
   "outputs": [],
   "source": [
    "products_df = products_df.convert_dtypes()"
   ]
  },
  {
   "cell_type": "code",
   "execution_count": 35,
   "metadata": {},
   "outputs": [
    {
     "name": "stdout",
     "output_type": "stream",
     "text": [
      "<class 'pandas.core.frame.DataFrame'>\n",
      "RangeIndex: 1853 entries, 0 to 1852\n",
      "Data columns (total 10 columns):\n",
      " #   Column         Non-Null Count  Dtype \n",
      "---  ------         --------------  ----- \n",
      " 0   Unnamed: 0     1853 non-null   Int64 \n",
      " 1   product_name   1849 non-null   string\n",
      " 2   product_price  1849 non-null   string\n",
      " 3   weight         1849 non-null   string\n",
      " 4   category       1849 non-null   string\n",
      " 5   EAN            1849 non-null   string\n",
      " 6   date_added     1849 non-null   string\n",
      " 7   uuid           1849 non-null   string\n",
      " 8   removed        1849 non-null   string\n",
      " 9   product_code   1849 non-null   string\n",
      "dtypes: Int64(1), string(9)\n",
      "memory usage: 146.7 KB\n"
     ]
    }
   ],
   "source": [
    "products_df.info()"
   ]
  },
  {
   "cell_type": "code",
   "execution_count": 49,
   "metadata": {},
   "outputs": [],
   "source": [
    "\n",
    "# Apply conversion to the DataFrame\n",
    "products_df['weight'] = products_df['weight'].apply(convert_to_kg)"
   ]
  },
  {
   "cell_type": "code",
   "execution_count": null,
   "metadata": {},
   "outputs": [],
   "source": [
    "https://data-handling-public.s3.eu-west-1.amazonaws.com/date_details.json"
   ]
  },
  {
   "cell_type": "code",
   "execution_count": 26,
   "metadata": {},
   "outputs": [
    {
     "data": {
      "text/plain": [
       "pandas.core.series.Series"
      ]
     },
     "execution_count": 26,
     "metadata": {},
     "output_type": "execute_result"
    }
   ],
   "source": [
    "type(products_weights)"
   ]
  },
  {
   "cell_type": "code",
   "execution_count": 51,
   "metadata": {},
   "outputs": [],
   "source": [
    "import requests"
   ]
  },
  {
   "cell_type": "code",
   "execution_count": 55,
   "metadata": {},
   "outputs": [],
   "source": [
    "header = {\"x-api-key\": \"yFBQbwXe9J3sd6zWVAMrK6lcxxr0q1lr2PT6DDMX\"}"
   ]
  },
  {
   "cell_type": "code",
   "execution_count": 54,
   "metadata": {},
   "outputs": [],
   "source": [
    "url ='https://data-handling-public.s3.eu-west-1.amazonaws.com/date_details.json'"
   ]
  },
  {
   "cell_type": "code",
   "execution_count": 57,
   "metadata": {},
   "outputs": [],
   "source": [
    "def retrieve_data( header,url):\n",
    "    try:\n",
    "            response = requests.get(url, headers=header)\n",
    "            # This will raise an HTTPError for bad responses (4xx and 5xx)\n",
    "            response.raise_for_status()\n",
    "\n",
    "            # Process the response if no exceptions were raised\n",
    "            data = response.json()  # Assuming the response is in JSON f\n",
    "\n",
    "    except requests.exceptions.HTTPError as http_err:\n",
    "        print(f\"HTTP error occurred: {http_err}\")\n",
    "    except requests.exceptions.ConnectionError as conn_err:\n",
    "        print(f\"Connection error occurred: {conn_err}\")\n",
    "    except requests.exceptions.Timeout as timeout_err:\n",
    "        print(f\"Timeout error occurred: {timeout_err}\")\n",
    "    except requests.exceptions.RequestException as req_err:\n",
    "        print(f\"An error occurred: {req_err}\")\n",
    "    except ValueError as json_err:\n",
    "        print(f\"JSON decoding failed: {json_err}\")\n",
    "\n",
    "    return data"
   ]
  },
  {
   "cell_type": "code",
   "execution_count": 59,
   "metadata": {},
   "outputs": [],
   "source": [
    "json_data = retrieve_data(header=header,url=url)"
   ]
  },
  {
   "cell_type": "code",
   "execution_count": null,
   "metadata": {},
   "outputs": [],
   "source": []
  }
 ],
 "metadata": {
  "kernelspec": {
   "display_name": "mrdc_env",
   "language": "python",
   "name": "python3"
  },
  "language_info": {
   "codemirror_mode": {
    "name": "ipython",
    "version": 3
   },
   "file_extension": ".py",
   "mimetype": "text/x-python",
   "name": "python",
   "nbconvert_exporter": "python",
   "pygments_lexer": "ipython3",
   "version": "3.12.4"
  }
 },
 "nbformat": 4,
 "nbformat_minor": 2
}
