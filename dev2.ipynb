{
 "cells": [
  {
   "cell_type": "code",
   "execution_count": 16,
   "metadata": {},
   "outputs": [],
   "source": [
    "import boto3\n",
    "import pandas as pd"
   ]
  },
  {
   "cell_type": "code",
   "execution_count": 2,
   "metadata": {},
   "outputs": [],
   "source": [
    "\n",
    "\n",
    "s3 = boto3.client('s3')\n",
    "s3.download_file('data-handling-public', 'products.csv',\n",
    "                 'cred/products.csv')"
   ]
  },
  {
   "cell_type": "code",
   "execution_count": 17,
   "metadata": {},
   "outputs": [],
   "source": [
    "aws_bucket ='data-handling-public'\n",
    "s3_key= 'products.csv'\n",
    "local_path= 'cred/products.csv'"
   ]
  },
  {
   "cell_type": "code",
   "execution_count": 18,
   "metadata": {},
   "outputs": [
    {
     "name": "stdout",
     "output_type": "stream",
     "text": [
      "Successful S3 get_object response. Status - 200\n",
      "      Unnamed: 0                                 product_name product_price  \\\n",
      "0              0  FurReal Dazzlin' Dimples My Playful Dolphin        £39.99   \n",
      "1              1          Tiffany's World Day Out At The Park        £12.99   \n",
      "2              2          Tiffany's World Pups Picnic Playset         £7.00   \n",
      "3              3     Tiffany's World Wildlife Park Adventures        £12.99   \n",
      "4              4                      Cosatto Cosy Dolls Pram        £30.00   \n",
      "...          ...                                          ...           ...   \n",
      "1848        1848    Goodmans Qi Autosense In Car Phone Holder        £15.00   \n",
      "1849        1849    Goodmans Qi Wireless Charging Phone Stand        £15.00   \n",
      "1850        1850                     RAC 12V Wet & Dry Vacuum        £18.00   \n",
      "1851        1851    Goodmans Qi Autosense In Car Phone Holder        £15.00   \n",
      "1852        1852               Beldray Telescopic Ladder 2.9m        £69.00   \n",
      "\n",
      "      weight        category            EAN  date_added  \\\n",
      "0      1.6kg  toys-and-games  7425710935115  2005-12-02   \n",
      "1     0.48kg  toys-and-games   487128731892  2006-01-09   \n",
      "2       590g  toys-and-games  1945816904649  1997-03-29   \n",
      "3       540g  toys-and-games  1569790890899  2013-03-20   \n",
      "4     1.91kg  toys-and-games  7142740213920  2007-12-23   \n",
      "...      ...             ...            ...         ...   \n",
      "1848    125g             diy  8185827751600  2020-08-28   \n",
      "1849    134g             diy  9769724533935  2012-05-20   \n",
      "1850    820g             diy  3113855860327  1993-11-28   \n",
      "1851    125g             diy  9195087467400  2016-09-20   \n",
      "1852   9.4kg             diy  8518402353072  2006-10-07   \n",
      "\n",
      "                                      uuid          removed product_code  \n",
      "0     83dc0a69-f96f-4c34-bcb7-928acae19a94  Still_avaliable  R7-3126933h  \n",
      "1     712254d7-aea7-4310-aff8-8bcdd0aec7ff  Still_avaliable  C2-7287916l  \n",
      "2     b089ef6f-b628-4e37-811d-fffe0102ba64  Still_avaliable  S7-1175877v  \n",
      "3     d55de422-8b98-47d6-9991-e4bc4c5c0cb0          Removed  D8-8421505n  \n",
      "4     7945b657-cb02-4cc5-96cf-f65ed0a8f235  Still_avaliable  B6-2596063a  \n",
      "...                                    ...              ...          ...  \n",
      "1848  3ff21cb1-8e90-499d-b5a0-6839fb83e70f  Still_avaliable  x4-2227164k  \n",
      "1849  a7910f74-c2b6-4144-98b7-30ca68f34d2d  Still_avaliable  i3-8338545Z  \n",
      "1850  66d3efa0-f480-4da9-893b-e8aaff53e27b  Still_avaliable  n4-1642658b  \n",
      "1851  efb472f1-8f00-448e-a874-9fa9812eeab5  Still_avaliable  A3-7619070S  \n",
      "1852  cfe701da-6493-4a7f-83cf-9aab1650f689  Still_avaliable  i6-2851854w  \n",
      "\n",
      "[1853 rows x 10 columns]\n"
     ]
    }
   ],
   "source": [
    "\n",
    "response = s3.get_object(Bucket=aws_bucket, Key=s3_key)\n",
    "\n",
    "status = response.get(\"ResponseMetadata\", {}).get(\"HTTPStatusCode\")\n",
    "\n",
    "if status == 200:\n",
    "    print(f\"Successful S3 get_object response. Status - {status}\")\n",
    "    products = pd.read_csv(response.get(\"Body\"))\n",
    "    print(products)\n",
    "else:\n",
    "    print(f\"Unsuccessful S3 get_object response. Status - {status}\")"
   ]
  }
 ],
 "metadata": {
  "kernelspec": {
   "display_name": "mrdc_env",
   "language": "python",
   "name": "python3"
  },
  "language_info": {
   "codemirror_mode": {
    "name": "ipython",
    "version": 3
   },
   "file_extension": ".py",
   "mimetype": "text/x-python",
   "name": "python",
   "nbconvert_exporter": "python",
   "pygments_lexer": "ipython3",
   "version": "3.12.4"
  }
 },
 "nbformat": 4,
 "nbformat_minor": 2
}
