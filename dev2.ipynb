{
 "cells": [
  {
   "cell_type": "code",
   "execution_count": 1,
   "metadata": {},
   "outputs": [],
   "source": [
    "import boto3\n",
    "import pandas as pd"
   ]
  },
  {
   "cell_type": "code",
   "execution_count": 2,
   "metadata": {},
   "outputs": [],
   "source": [
    "\n",
    "\n",
    "s3 = boto3.client('s3')\n",
    "s3.download_file('data-handling-public', 'products.csv',\n",
    "                 'cred/products.csv')"
   ]
  },
  {
   "cell_type": "code",
   "execution_count": 3,
   "metadata": {},
   "outputs": [],
   "source": [
    "aws_bucket ='data-handling-public'\n",
    "s3_key= 'products.csv'\n",
    "local_path= 'cred/products.csv'"
   ]
  },
  {
   "cell_type": "code",
   "execution_count": 4,
   "metadata": {},
   "outputs": [
    {
     "name": "stdout",
     "output_type": "stream",
     "text": [
      "Successful S3 get_object response. Status - 200\n"
     ]
    }
   ],
   "source": [
    "\n",
    "response = s3.get_object(Bucket=aws_bucket, Key=s3_key)\n",
    "\n",
    "status = response.get(\"ResponseMetadata\", {}).get(\"HTTPStatusCode\")\n",
    "\n",
    "if status == 200:\n",
    "    print(f\"Successful S3 get_object response. Status - {status}\")\n",
    "    products_df = pd.read_csv(response.get(\"Body\"))\n",
    "    \n",
    "else:\n",
    "    print(f\"Unsuccessful S3 get_object response. Status - {status}\")"
   ]
  },
  {
   "cell_type": "code",
   "execution_count": 5,
   "metadata": {},
   "outputs": [
    {
     "data": {
      "text/html": [
       "<div>\n",
       "<style scoped>\n",
       "    .dataframe tbody tr th:only-of-type {\n",
       "        vertical-align: middle;\n",
       "    }\n",
       "\n",
       "    .dataframe tbody tr th {\n",
       "        vertical-align: top;\n",
       "    }\n",
       "\n",
       "    .dataframe thead th {\n",
       "        text-align: right;\n",
       "    }\n",
       "</style>\n",
       "<table border=\"1\" class=\"dataframe\">\n",
       "  <thead>\n",
       "    <tr style=\"text-align: right;\">\n",
       "      <th></th>\n",
       "      <th>Unnamed: 0</th>\n",
       "      <th>product_name</th>\n",
       "      <th>product_price</th>\n",
       "      <th>weight</th>\n",
       "      <th>category</th>\n",
       "      <th>EAN</th>\n",
       "      <th>date_added</th>\n",
       "      <th>uuid</th>\n",
       "      <th>removed</th>\n",
       "      <th>product_code</th>\n",
       "    </tr>\n",
       "  </thead>\n",
       "  <tbody>\n",
       "    <tr>\n",
       "      <th>0</th>\n",
       "      <td>0</td>\n",
       "      <td>FurReal Dazzlin' Dimples My Playful Dolphin</td>\n",
       "      <td>£39.99</td>\n",
       "      <td>1.6kg</td>\n",
       "      <td>toys-and-games</td>\n",
       "      <td>7425710935115</td>\n",
       "      <td>2005-12-02</td>\n",
       "      <td>83dc0a69-f96f-4c34-bcb7-928acae19a94</td>\n",
       "      <td>Still_avaliable</td>\n",
       "      <td>R7-3126933h</td>\n",
       "    </tr>\n",
       "    <tr>\n",
       "      <th>1</th>\n",
       "      <td>1</td>\n",
       "      <td>Tiffany's World Day Out At The Park</td>\n",
       "      <td>£12.99</td>\n",
       "      <td>0.48kg</td>\n",
       "      <td>toys-and-games</td>\n",
       "      <td>487128731892</td>\n",
       "      <td>2006-01-09</td>\n",
       "      <td>712254d7-aea7-4310-aff8-8bcdd0aec7ff</td>\n",
       "      <td>Still_avaliable</td>\n",
       "      <td>C2-7287916l</td>\n",
       "    </tr>\n",
       "    <tr>\n",
       "      <th>2</th>\n",
       "      <td>2</td>\n",
       "      <td>Tiffany's World Pups Picnic Playset</td>\n",
       "      <td>£7.00</td>\n",
       "      <td>590g</td>\n",
       "      <td>toys-and-games</td>\n",
       "      <td>1945816904649</td>\n",
       "      <td>1997-03-29</td>\n",
       "      <td>b089ef6f-b628-4e37-811d-fffe0102ba64</td>\n",
       "      <td>Still_avaliable</td>\n",
       "      <td>S7-1175877v</td>\n",
       "    </tr>\n",
       "    <tr>\n",
       "      <th>3</th>\n",
       "      <td>3</td>\n",
       "      <td>Tiffany's World Wildlife Park Adventures</td>\n",
       "      <td>£12.99</td>\n",
       "      <td>540g</td>\n",
       "      <td>toys-and-games</td>\n",
       "      <td>1569790890899</td>\n",
       "      <td>2013-03-20</td>\n",
       "      <td>d55de422-8b98-47d6-9991-e4bc4c5c0cb0</td>\n",
       "      <td>Removed</td>\n",
       "      <td>D8-8421505n</td>\n",
       "    </tr>\n",
       "    <tr>\n",
       "      <th>4</th>\n",
       "      <td>4</td>\n",
       "      <td>Cosatto Cosy Dolls Pram</td>\n",
       "      <td>£30.00</td>\n",
       "      <td>1.91kg</td>\n",
       "      <td>toys-and-games</td>\n",
       "      <td>7142740213920</td>\n",
       "      <td>2007-12-23</td>\n",
       "      <td>7945b657-cb02-4cc5-96cf-f65ed0a8f235</td>\n",
       "      <td>Still_avaliable</td>\n",
       "      <td>B6-2596063a</td>\n",
       "    </tr>\n",
       "    <tr>\n",
       "      <th>...</th>\n",
       "      <td>...</td>\n",
       "      <td>...</td>\n",
       "      <td>...</td>\n",
       "      <td>...</td>\n",
       "      <td>...</td>\n",
       "      <td>...</td>\n",
       "      <td>...</td>\n",
       "      <td>...</td>\n",
       "      <td>...</td>\n",
       "      <td>...</td>\n",
       "    </tr>\n",
       "    <tr>\n",
       "      <th>1848</th>\n",
       "      <td>1848</td>\n",
       "      <td>Goodmans Qi Autosense In Car Phone Holder</td>\n",
       "      <td>£15.00</td>\n",
       "      <td>125g</td>\n",
       "      <td>diy</td>\n",
       "      <td>8185827751600</td>\n",
       "      <td>2020-08-28</td>\n",
       "      <td>3ff21cb1-8e90-499d-b5a0-6839fb83e70f</td>\n",
       "      <td>Still_avaliable</td>\n",
       "      <td>x4-2227164k</td>\n",
       "    </tr>\n",
       "    <tr>\n",
       "      <th>1849</th>\n",
       "      <td>1849</td>\n",
       "      <td>Goodmans Qi Wireless Charging Phone Stand</td>\n",
       "      <td>£15.00</td>\n",
       "      <td>134g</td>\n",
       "      <td>diy</td>\n",
       "      <td>9769724533935</td>\n",
       "      <td>2012-05-20</td>\n",
       "      <td>a7910f74-c2b6-4144-98b7-30ca68f34d2d</td>\n",
       "      <td>Still_avaliable</td>\n",
       "      <td>i3-8338545Z</td>\n",
       "    </tr>\n",
       "    <tr>\n",
       "      <th>1850</th>\n",
       "      <td>1850</td>\n",
       "      <td>RAC 12V Wet &amp; Dry Vacuum</td>\n",
       "      <td>£18.00</td>\n",
       "      <td>820g</td>\n",
       "      <td>diy</td>\n",
       "      <td>3113855860327</td>\n",
       "      <td>1993-11-28</td>\n",
       "      <td>66d3efa0-f480-4da9-893b-e8aaff53e27b</td>\n",
       "      <td>Still_avaliable</td>\n",
       "      <td>n4-1642658b</td>\n",
       "    </tr>\n",
       "    <tr>\n",
       "      <th>1851</th>\n",
       "      <td>1851</td>\n",
       "      <td>Goodmans Qi Autosense In Car Phone Holder</td>\n",
       "      <td>£15.00</td>\n",
       "      <td>125g</td>\n",
       "      <td>diy</td>\n",
       "      <td>9195087467400</td>\n",
       "      <td>2016-09-20</td>\n",
       "      <td>efb472f1-8f00-448e-a874-9fa9812eeab5</td>\n",
       "      <td>Still_avaliable</td>\n",
       "      <td>A3-7619070S</td>\n",
       "    </tr>\n",
       "    <tr>\n",
       "      <th>1852</th>\n",
       "      <td>1852</td>\n",
       "      <td>Beldray Telescopic Ladder 2.9m</td>\n",
       "      <td>£69.00</td>\n",
       "      <td>9.4kg</td>\n",
       "      <td>diy</td>\n",
       "      <td>8518402353072</td>\n",
       "      <td>2006-10-07</td>\n",
       "      <td>cfe701da-6493-4a7f-83cf-9aab1650f689</td>\n",
       "      <td>Still_avaliable</td>\n",
       "      <td>i6-2851854w</td>\n",
       "    </tr>\n",
       "  </tbody>\n",
       "</table>\n",
       "<p>1853 rows × 10 columns</p>\n",
       "</div>"
      ],
      "text/plain": [
       "      Unnamed: 0                                 product_name product_price  \\\n",
       "0              0  FurReal Dazzlin' Dimples My Playful Dolphin        £39.99   \n",
       "1              1          Tiffany's World Day Out At The Park        £12.99   \n",
       "2              2          Tiffany's World Pups Picnic Playset         £7.00   \n",
       "3              3     Tiffany's World Wildlife Park Adventures        £12.99   \n",
       "4              4                      Cosatto Cosy Dolls Pram        £30.00   \n",
       "...          ...                                          ...           ...   \n",
       "1848        1848    Goodmans Qi Autosense In Car Phone Holder        £15.00   \n",
       "1849        1849    Goodmans Qi Wireless Charging Phone Stand        £15.00   \n",
       "1850        1850                     RAC 12V Wet & Dry Vacuum        £18.00   \n",
       "1851        1851    Goodmans Qi Autosense In Car Phone Holder        £15.00   \n",
       "1852        1852               Beldray Telescopic Ladder 2.9m        £69.00   \n",
       "\n",
       "      weight        category            EAN  date_added  \\\n",
       "0      1.6kg  toys-and-games  7425710935115  2005-12-02   \n",
       "1     0.48kg  toys-and-games   487128731892  2006-01-09   \n",
       "2       590g  toys-and-games  1945816904649  1997-03-29   \n",
       "3       540g  toys-and-games  1569790890899  2013-03-20   \n",
       "4     1.91kg  toys-and-games  7142740213920  2007-12-23   \n",
       "...      ...             ...            ...         ...   \n",
       "1848    125g             diy  8185827751600  2020-08-28   \n",
       "1849    134g             diy  9769724533935  2012-05-20   \n",
       "1850    820g             diy  3113855860327  1993-11-28   \n",
       "1851    125g             diy  9195087467400  2016-09-20   \n",
       "1852   9.4kg             diy  8518402353072  2006-10-07   \n",
       "\n",
       "                                      uuid          removed product_code  \n",
       "0     83dc0a69-f96f-4c34-bcb7-928acae19a94  Still_avaliable  R7-3126933h  \n",
       "1     712254d7-aea7-4310-aff8-8bcdd0aec7ff  Still_avaliable  C2-7287916l  \n",
       "2     b089ef6f-b628-4e37-811d-fffe0102ba64  Still_avaliable  S7-1175877v  \n",
       "3     d55de422-8b98-47d6-9991-e4bc4c5c0cb0          Removed  D8-8421505n  \n",
       "4     7945b657-cb02-4cc5-96cf-f65ed0a8f235  Still_avaliable  B6-2596063a  \n",
       "...                                    ...              ...          ...  \n",
       "1848  3ff21cb1-8e90-499d-b5a0-6839fb83e70f  Still_avaliable  x4-2227164k  \n",
       "1849  a7910f74-c2b6-4144-98b7-30ca68f34d2d  Still_avaliable  i3-8338545Z  \n",
       "1850  66d3efa0-f480-4da9-893b-e8aaff53e27b  Still_avaliable  n4-1642658b  \n",
       "1851  efb472f1-8f00-448e-a874-9fa9812eeab5  Still_avaliable  A3-7619070S  \n",
       "1852  cfe701da-6493-4a7f-83cf-9aab1650f689  Still_avaliable  i6-2851854w  \n",
       "\n",
       "[1853 rows x 10 columns]"
      ]
     },
     "execution_count": 5,
     "metadata": {},
     "output_type": "execute_result"
    }
   ],
   "source": [
    "products_df"
   ]
  },
  {
   "cell_type": "code",
   "execution_count": 26,
   "metadata": {},
   "outputs": [
    {
     "name": "stdout",
     "output_type": "stream",
     "text": [
      "<class 'pandas.core.frame.DataFrame'>\n",
      "RangeIndex: 1853 entries, 0 to 1852\n",
      "Data columns (total 10 columns):\n",
      " #   Column         Non-Null Count  Dtype \n",
      "---  ------         --------------  ----- \n",
      " 0   Unnamed: 0     1853 non-null   int64 \n",
      " 1   product_name   1849 non-null   object\n",
      " 2   product_price  1849 non-null   object\n",
      " 3   weight         1849 non-null   object\n",
      " 4   category       1849 non-null   object\n",
      " 5   EAN            1849 non-null   object\n",
      " 6   date_added     1849 non-null   object\n",
      " 7   uuid           1849 non-null   object\n",
      " 8   removed        1849 non-null   object\n",
      " 9   product_code   1849 non-null   object\n",
      "dtypes: int64(1), object(9)\n",
      "memory usage: 144.9+ KB\n"
     ]
    }
   ],
   "source": [
    "products_df.info()"
   ]
  },
  {
   "cell_type": "code",
   "execution_count": null,
   "metadata": {},
   "outputs": [],
   "source": []
  },
  {
   "cell_type": "code",
   "execution_count": 7,
   "metadata": {},
   "outputs": [],
   "source": [
    "import re\n",
    "\n",
    "\n",
    "\n",
    "\n",
    "def convert_to_kg(weight):\n",
    "    # Handle multiple units (e.g., \"8 x 85g\")\n",
    "    multiple_match = re.match(r'(\\d+)\\s*x\\s*(\\d+\\.?\\d*)(\\w+)', weight)\n",
    "    if multiple_match:\n",
    "        count = int(multiple_match.group(1))\n",
    "        value = float(multiple_match.group(2))\n",
    "        unit = multiple_match.group(3)\n",
    "        weight_value = count * value\n",
    "    else:\n",
    "        # Extract value and unit\n",
    "        match = re.match(r'(\\d+\\.?\\d*)(\\w+)', weight)\n",
    "        if not match:\n",
    "            return None\n",
    "        weight_value = float(match.group(1))\n",
    "        unit = match.group(2)\n",
    "\n",
    "    # Conversion factors\n",
    "    if unit == 'kg':\n",
    "        return weight_value\n",
    "    elif unit == 'g':\n",
    "        return weight_value * 0.001\n",
    "    elif unit == 'ml':\n",
    "        return weight_value * 0.001  # Assuming 1:1 ratio for ml to g\n",
    "    elif unit == 'oz':\n",
    "        return weight_value * 0.0283495\n",
    "    else:\n",
    "        return None  # Unknown unit\n",
    "\n"
   ]
  },
  {
   "cell_type": "code",
   "execution_count": 8,
   "metadata": {},
   "outputs": [],
   "source": [
    "products_df['date_added'] = pd.to_datetime(\n",
    "    products_df['date_added'], format='mixed', errors='coerce')"
   ]
  },
  {
   "cell_type": "code",
   "execution_count": 29,
   "metadata": {},
   "outputs": [],
   "source": [
    "products_df=products_df.dropna()"
   ]
  },
  {
   "cell_type": "code",
   "execution_count": 30,
   "metadata": {},
   "outputs": [
    {
     "name": "stdout",
     "output_type": "stream",
     "text": [
      "<class 'pandas.core.frame.DataFrame'>\n",
      "Index: 1844 entries, 0 to 1852\n",
      "Data columns (total 10 columns):\n",
      " #   Column         Non-Null Count  Dtype         \n",
      "---  ------         --------------  -----         \n",
      " 0   Unnamed: 0     1844 non-null   int64         \n",
      " 1   product_name   1844 non-null   object        \n",
      " 2   product_price  1844 non-null   object        \n",
      " 3   weight         1844 non-null   object        \n",
      " 4   category       1844 non-null   object        \n",
      " 5   EAN            1844 non-null   object        \n",
      " 6   date_added     1844 non-null   datetime64[ns]\n",
      " 7   uuid           1844 non-null   object        \n",
      " 8   removed        1844 non-null   object        \n",
      " 9   product_code   1844 non-null   object        \n",
      "dtypes: datetime64[ns](1), int64(1), object(8)\n",
      "memory usage: 158.5+ KB\n"
     ]
    }
   ],
   "source": [
    "products_df.info()"
   ]
  },
  {
   "cell_type": "code",
   "execution_count": 31,
   "metadata": {},
   "outputs": [],
   "source": [
    "products_df = products_df.convert_dtypes()"
   ]
  },
  {
   "cell_type": "code",
   "execution_count": 32,
   "metadata": {},
   "outputs": [
    {
     "name": "stdout",
     "output_type": "stream",
     "text": [
      "<class 'pandas.core.frame.DataFrame'>\n",
      "Index: 1844 entries, 0 to 1852\n",
      "Data columns (total 10 columns):\n",
      " #   Column         Non-Null Count  Dtype         \n",
      "---  ------         --------------  -----         \n",
      " 0   Unnamed: 0     1844 non-null   Int64         \n",
      " 1   product_name   1844 non-null   string        \n",
      " 2   product_price  1844 non-null   string        \n",
      " 3   weight         1844 non-null   string        \n",
      " 4   category       1844 non-null   string        \n",
      " 5   EAN            1844 non-null   string        \n",
      " 6   date_added     1844 non-null   datetime64[ns]\n",
      " 7   uuid           1844 non-null   string        \n",
      " 8   removed        1844 non-null   string        \n",
      " 9   product_code   1844 non-null   string        \n",
      "dtypes: Int64(1), datetime64[ns](1), string(8)\n",
      "memory usage: 160.3 KB\n"
     ]
    }
   ],
   "source": [
    "products_df.info()"
   ]
  },
  {
   "cell_type": "code",
   "execution_count": 33,
   "metadata": {},
   "outputs": [],
   "source": [
    "\n",
    "# Apply conversion to the DataFrame\n",
    "products_df['weight'] = products_df['weight'].apply(convert_to_kg)"
   ]
  },
  {
   "cell_type": "code",
   "execution_count": 34,
   "metadata": {},
   "outputs": [
    {
     "ename": "SyntaxError",
     "evalue": "invalid decimal literal (4019132870.py, line 1)",
     "output_type": "error",
     "traceback": [
      "\u001b[1;36m  Cell \u001b[1;32mIn[34], line 1\u001b[1;36m\u001b[0m\n\u001b[1;33m    https://data-handling-public.s3.eu-west-1.amazonaws.com/date_details.json\u001b[0m\n\u001b[1;37m                                             ^\u001b[0m\n\u001b[1;31mSyntaxError\u001b[0m\u001b[1;31m:\u001b[0m invalid decimal literal\n"
     ]
    }
   ],
   "source": [
    "https://data-handling-public.s3.eu-west-1.amazonaws.com/date_details.json"
   ]
  },
  {
   "cell_type": "code",
   "execution_count": null,
   "metadata": {},
   "outputs": [
    {
     "data": {
      "text/plain": [
       "pandas.core.series.Series"
      ]
     },
     "execution_count": 26,
     "metadata": {},
     "output_type": "execute_result"
    }
   ],
   "source": [
    "type(products_weights)"
   ]
  },
  {
   "cell_type": "code",
   "execution_count": 1,
   "metadata": {},
   "outputs": [],
   "source": [
    "import requests"
   ]
  },
  {
   "cell_type": "code",
   "execution_count": 3,
   "metadata": {},
   "outputs": [],
   "source": [
    "header = {\"x-api-key\": \"yFBQbwXe9J3sd6zWVAMrK6lcxxr0q1lr2PT6DDMX\"}"
   ]
  },
  {
   "cell_type": "code",
   "execution_count": 4,
   "metadata": {},
   "outputs": [],
   "source": [
    "url ='https://data-handling-public.s3.eu-west-1.amazonaws.com/date_details.json'"
   ]
  },
  {
   "cell_type": "code",
   "execution_count": 5,
   "metadata": {},
   "outputs": [],
   "source": [
    "def retrieve_data( header,url):\n",
    "    try:\n",
    "            response = requests.get(url, headers=header)\n",
    "            # This will raise an HTTPError for bad responses (4xx and 5xx)\n",
    "            response.raise_for_status()\n",
    "\n",
    "            # Process the response if no exceptions were raised\n",
    "            data = response.json()  # Assuming the response is in JSON f\n",
    "\n",
    "    except requests.exceptions.HTTPError as http_err:\n",
    "        print(f\"HTTP error occurred: {http_err}\")\n",
    "    except requests.exceptions.ConnectionError as conn_err:\n",
    "        print(f\"Connection error occurred: {conn_err}\")\n",
    "    except requests.exceptions.Timeout as timeout_err:\n",
    "        print(f\"Timeout error occurred: {timeout_err}\")\n",
    "    except requests.exceptions.RequestException as req_err:\n",
    "        print(f\"An error occurred: {req_err}\")\n",
    "    except ValueError as json_err:\n",
    "        print(f\"JSON decoding failed: {json_err}\")\n",
    "\n",
    "    return data"
   ]
  },
  {
   "cell_type": "code",
   "execution_count": 6,
   "metadata": {},
   "outputs": [],
   "source": [
    "json_data = retrieve_data(header=header,url=url)"
   ]
  },
  {
   "cell_type": "code",
   "execution_count": 7,
   "metadata": {},
   "outputs": [],
   "source": [
    "import pandas as pd"
   ]
  },
  {
   "cell_type": "code",
   "execution_count": 8,
   "metadata": {},
   "outputs": [],
   "source": [
    "date_df = pd.DataFrame.from_dict(json_data)"
   ]
  },
  {
   "cell_type": "code",
   "execution_count": 9,
   "metadata": {},
   "outputs": [],
   "source": [
    "date_df['month']= pd.to_numeric(date_df['month'],errors='coerce')\n"
   ]
  },
  {
   "cell_type": "code",
   "execution_count": 10,
   "metadata": {},
   "outputs": [],
   "source": [
    "date_df = date_df.dropna()"
   ]
  },
  {
   "cell_type": "code",
   "execution_count": 11,
   "metadata": {},
   "outputs": [],
   "source": [
    "date_df['month'] = date_df['month'].astype('int64')"
   ]
  },
  {
   "cell_type": "code",
   "execution_count": 12,
   "metadata": {},
   "outputs": [],
   "source": [
    "date_df['year'] = pd.to_datetime(\n",
    "    date_df['year'], errors='coerce')"
   ]
  },
  {
   "cell_type": "code",
   "execution_count": 13,
   "metadata": {},
   "outputs": [
    {
     "name": "stdout",
     "output_type": "stream",
     "text": [
      "<class 'pandas.core.frame.DataFrame'>\n",
      "Index: 120123 entries, 0 to 120160\n",
      "Data columns (total 6 columns):\n",
      " #   Column       Non-Null Count   Dtype         \n",
      "---  ------       --------------   -----         \n",
      " 0   timestamp    120123 non-null  object        \n",
      " 1   month        120123 non-null  int64         \n",
      " 2   year         120123 non-null  datetime64[ns]\n",
      " 3   day          120123 non-null  object        \n",
      " 4   time_period  120123 non-null  object        \n",
      " 5   date_uuid    120123 non-null  object        \n",
      "dtypes: datetime64[ns](1), int64(1), object(4)\n",
      "memory usage: 6.4+ MB\n"
     ]
    }
   ],
   "source": [
    "date_df.info()"
   ]
  },
  {
   "cell_type": "code",
   "execution_count": 35,
   "metadata": {},
   "outputs": [
    {
     "data": {
      "text/plain": [
       "0         2012\n",
       "1         1997\n",
       "2         1994\n",
       "3         2001\n",
       "4         2015\n",
       "          ... \n",
       "120156    2022\n",
       "120157    1997\n",
       "120158    2011\n",
       "120159    2013\n",
       "120160    2008\n",
       "Name: year, Length: 120161, dtype: object"
      ]
     },
     "execution_count": 35,
     "metadata": {},
     "output_type": "execute_result"
    }
   ],
   "source": [
    "date_df['year']"
   ]
  },
  {
   "cell_type": "code",
   "execution_count": 14,
   "metadata": {},
   "outputs": [],
   "source": [
    "import yaml\n",
    "from sqlalchemy import create_engine\n",
    "import psycopg2"
   ]
  },
  {
   "cell_type": "code",
   "execution_count": 24,
   "metadata": {},
   "outputs": [],
   "source": [
    "with open('cred/pg_admin_creds.yaml') as file:\n",
    "    db_cred = yaml.safe_load(file)"
   ]
  },
  {
   "cell_type": "code",
   "execution_count": 25,
   "metadata": {},
   "outputs": [],
   "source": [
    "DATABASE_TYPE = 'postgresql'\n",
    "DBAPI = 'psycopg2'\n",
    "HOST = db_cred['RDS_HOST']\n",
    "USER = db_cred['RDS_USER']\n",
    "PASSWORD = db_cred['RDS_PASSWORD']\n",
    "DATABASE = db_cred['RDS_DATABASE']\n",
    "PORT = db_cred['RDS_PORT']\n",
    "engine = create_engine(\n",
    "    f\"{DATABASE_TYPE}+{DBAPI}://{USER}:{PASSWORD}@{HOST}:{PORT}/{DATABASE}\")"
   ]
  },
  {
   "cell_type": "code",
   "execution_count": 26,
   "metadata": {},
   "outputs": [
    {
     "name": "stdout",
     "output_type": "stream",
     "text": [
      "Data uploaded to legacy_users successfully.\n"
     ]
    }
   ],
   "source": [
    "try:\n",
    "    date_df.to_sql('dim_date_times', engine,\n",
    "                   index=False, if_exists='replace')\n",
    "    print(f\"Data uploaded to legacy_users successfully.\")\n",
    "except Exception as e:\n",
    "    print(f\"Error uploading data to legacy_users: {e}\")"
   ]
  },
  {
   "cell_type": "code",
   "execution_count": 34,
   "metadata": {},
   "outputs": [],
   "source": [
    "import os\n",
    "from dotenv import load_dotenv"
   ]
  },
  {
   "cell_type": "code",
   "execution_count": 35,
   "metadata": {},
   "outputs": [
    {
     "data": {
      "text/plain": [
       "False"
      ]
     },
     "execution_count": 35,
     "metadata": {},
     "output_type": "execute_result"
    }
   ],
   "source": [
    "load_dotenv()"
   ]
  },
  {
   "cell_type": "code",
   "execution_count": 42,
   "metadata": {},
   "outputs": [],
   "source": [
    "aws_api_key = os.getenv('AWS_API_KEY')"
   ]
  },
  {
   "cell_type": "code",
   "execution_count": 43,
   "metadata": {},
   "outputs": [
    {
     "name": "stdout",
     "output_type": "stream",
     "text": [
      "yFBQbwXe9J3sd6zWVAMrK6lcxxr0q1lr2PT6DDMX\n"
     ]
    }
   ],
   "source": [
    "print(aws_api_key)"
   ]
  },
  {
   "cell_type": "code",
   "execution_count": 44,
   "metadata": {},
   "outputs": [],
   "source": [
    "header = {\"x-api-key\": aws_api_key}"
   ]
  },
  {
   "cell_type": "code",
   "execution_count": 45,
   "metadata": {},
   "outputs": [
    {
     "name": "stdout",
     "output_type": "stream",
     "text": [
      "{'x-api-key': 'yFBQbwXe9J3sd6zWVAMrK6lcxxr0q1lr2PT6DDMX'}\n"
     ]
    }
   ],
   "source": [
    "print(header)"
   ]
  }
 ],
 "metadata": {
  "kernelspec": {
   "display_name": "mrdc_env",
   "language": "python",
   "name": "python3"
  },
  "language_info": {
   "codemirror_mode": {
    "name": "ipython",
    "version": 3
   },
   "file_extension": ".py",
   "mimetype": "text/x-python",
   "name": "python",
   "nbconvert_exporter": "python",
   "pygments_lexer": "ipython3",
   "version": "3.12.4"
  }
 },
 "nbformat": 4,
 "nbformat_minor": 2
}
